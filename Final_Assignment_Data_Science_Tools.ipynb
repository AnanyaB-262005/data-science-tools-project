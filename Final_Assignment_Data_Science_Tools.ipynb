{
 "cells": [
  {
   "cell_type": "markdown",
   "id": "f3e36531",
   "metadata": {},
   "source": [
    "# Data Science Tools and Ecosystem"
   ]
  },
  {
   "cell_type": "markdown",
   "id": "696c89ef",
   "metadata": {},
   "source": [
    "In this notebook, Data Science tools and ecosystems are summarized."
   ]
  },
  {
   "cell_type": "markdown",
   "id": "e255d921",
   "metadata": {},
   "source": [
    "## Languages Used in Data Science\n",
    "\n",
    "Some of the popular languages that Data Scientists use are:\n",
    "\n",
    "1. Python  \n",
    "2. R  \n",
    "3. SQL  \n",
    "4. Julia  \n",
    "5. Scala"
   ]
  },
  {
   "cell_type": "markdown",
   "id": "220845a4",
   "metadata": {},
   "source": [
    "## Libraries Used in Data Science\n",
    "\n",
    "Some of the commonly used libraries by Data Scientists include:\n",
    "\n",
    "1. Pandas  \n",
    "2. NumPy  \n",
    "3. Matplotlib  \n",
    "4. Scikit-learn  \n",
    "5. TensorFlow"
   ]
  },
  {
   "cell_type": "markdown",
   "id": "09ed1a65",
   "metadata": {},
   "source": [
    "## Data Science Tools\n",
    "\n",
    "| Tool           | Category            |\n",
    "|----------------|---------------------|\n",
    "| Jupyter Notebook | Notebook Interface |\n",
    "| RStudio         | IDE                 |\n",
    "| Apache Spark    | Big Data Processing |"
   ]
  },
  {
   "cell_type": "markdown",
   "id": "116494a9",
   "metadata": {},
   "source": [
    "### Examples of Evaluating Arithmetic Expressions in Python\n",
    "Below are a few examples of simple arithmetic operations.\n"
   ]
  },
  {
   "cell_type": "code",
   "execution_count": null,
   "id": "5ad1a488",
   "metadata": {},
   "outputs": [],
   "source": [
    "# This will multiply 3 and 4, then add 5\n",
    "(3 * 4) + 5"
   ]
  },
  {
   "cell_type": "code",
   "execution_count": null,
   "id": "86e8e07b",
   "metadata": {},
   "outputs": [],
   "source": [
    "# This will convert 200 minutes to hours\n",
    "200 / 60"
   ]
  },
  {
   "cell_type": "markdown",
   "id": "533c3f20",
   "metadata": {},
   "source": [
    "## Objectives\n",
    "\n",
    "In this notebook, we will:\n",
    "\n",
    "- List popular languages used in Data Science  \n",
    "- List commonly used libraries for Data Science  \n",
    "- Create tables in Markdown  \n",
    "- Perform arithmetic operations using Python  \n",
    "- Share a Jupyter notebook through GitHub  \n"
   ]
  },
  {
   "cell_type": "markdown",
   "id": "ec6c516d",
   "metadata": {},
   "source": [
    "## Author\n",
    "**Ananya Ananya**\n"
   ]
  }
 ],
 "metadata": {},
 "nbformat": 4,
 "nbformat_minor": 5
}
